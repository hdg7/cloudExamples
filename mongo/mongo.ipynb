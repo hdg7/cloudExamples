{
 "cells": [
  {
   "cell_type": "markdown",
   "id": "54ea39aa-f807-499d-9d14-a823afb5a653",
   "metadata": {},
   "source": [
    "# Mongo Examples"
   ]
  },
  {
   "cell_type": "markdown",
   "id": "419686e3-bfc3-45f7-ae82-84ce46ddc443",
   "metadata": {},
   "source": [
    "We start by connecting to the db"
   ]
  },
  {
   "cell_type": "code",
   "execution_count": 1,
   "id": "0b8c7f5b-c134-480d-a048-3fd33fcbebdf",
   "metadata": {},
   "outputs": [],
   "source": [
    "from pymongo import MongoClient\n",
    "client = MongoClient(\"mongodb://mongodb:27017/\")"
   ]
  },
  {
   "cell_type": "markdown",
   "id": "cc7b5163-64c6-4d74-894b-bbb883d46080",
   "metadata": {},
   "source": [
    "## Exercise 1\n",
    "\n",
    "We are going to create our first database"
   ]
  },
  {
   "cell_type": "code",
   "execution_count": 2,
   "id": "c56e6ce0-64c1-40b3-8da2-fda658289917",
   "metadata": {},
   "outputs": [],
   "source": [
    "from pymongo import MongoClient\n",
    "\n",
    "# Connect to MongoDB\n",
    "client = MongoClient(\"mongodb://mongo:27017/\")\n",
    "\n",
    "# Access (or create) the database\n",
    "db = client[\"library\"]\n",
    "\n",
    "# Access (or create) a collection (like a table)\n",
    "books = db[\"books\"]"
   ]
  },
  {
   "cell_type": "markdown",
   "id": "cd2b3898-12e4-46ac-953e-cb30385bd1e4",
   "metadata": {},
   "source": [
    "## Exercise 2\n",
    "\n",
    "We are going to insert books"
   ]
  },
  {
   "cell_type": "code",
   "execution_count": 3,
   "id": "3b727d52-a71a-4665-acd5-ac04b4e99fb8",
   "metadata": {},
   "outputs": [
    {
     "name": "stdout",
     "output_type": "stream",
     "text": [
      "Inserted book with id: 68e6d73de0774128f243e5ff\n",
      "Inserted book with id: 68e6d73de0774128f243e600\n"
     ]
    }
   ],
   "source": [
    "def insert_book(title, author, year):\n",
    "    book = {\"title\": title, \"author\": author, \"publication_year\": year}\n",
    "    result = books.insert_one(book)\n",
    "    print(\"Inserted book with id:\", result.inserted_id)\n",
    "\n",
    "insert_book(\"The Hobbit\", \"J.R.R. Tolkien\", 1937)\n",
    "insert_book(\"Dune\", \"Frank Herbert\", 1965)\n"
   ]
  },
  {
   "cell_type": "markdown",
   "id": "970d78c7-c3ac-4dc6-a4cb-9e0f485c7d83",
   "metadata": {},
   "source": [
    "## Exercise 3\n",
    "\n",
    "We are going to retrieve the information"
   ]
  },
  {
   "cell_type": "code",
   "execution_count": 4,
   "id": "0bfd6f1c-e180-4526-b7ce-f1f1bc6d3e7e",
   "metadata": {},
   "outputs": [
    {
     "name": "stdout",
     "output_type": "stream",
     "text": [
      "{'_id': ObjectId('68e6d73de0774128f243e5ff'), 'title': 'The Hobbit', 'author': 'J.R.R. Tolkien', 'publication_year': 1937}\n",
      "{'_id': ObjectId('68e6d73de0774128f243e600'), 'title': 'Dune', 'author': 'Frank Herbert', 'publication_year': 1965}\n"
     ]
    }
   ],
   "source": [
    "def get_all_books():\n",
    "    return list(books.find())\n",
    "\n",
    "def get_books_by_author(author):\n",
    "    return list(books.find({\"author\": author}))\n",
    "\n",
    "# Example\n",
    "for book in get_all_books():\n",
    "    print(book)"
   ]
  },
  {
   "cell_type": "markdown",
   "id": "efbd92a0-1340-4490-95c8-115406673a1c",
   "metadata": {},
   "source": [
    "## Exercise 4\n",
    "\n",
    "We are going to update data from the records"
   ]
  },
  {
   "cell_type": "code",
   "execution_count": 5,
   "id": "b22315d8-e99f-4b88-9f4a-546cb0af4c20",
   "metadata": {},
   "outputs": [
    {
     "name": "stdout",
     "output_type": "stream",
     "text": [
      "Modified count: 1\n"
     ]
    }
   ],
   "source": [
    "def update_book(title, new_author):\n",
    "    result = books.update_one(\n",
    "        {\"title\": title},\n",
    "        {\"$set\": {\"author\": new_author}}\n",
    "    )\n",
    "    print(\"Modified count:\", result.modified_count)\n",
    "\n",
    "update_book(\"Dune\", \"F. Herbert\")\n"
   ]
  },
  {
   "cell_type": "markdown",
   "id": "876d1f65-b6e6-4900-bd0c-53c71613366b",
   "metadata": {},
   "source": [
    "## Exercise 5\n",
    "\n",
    "We are going to delete one book"
   ]
  },
  {
   "cell_type": "code",
   "execution_count": 6,
   "id": "40505988-81b3-4b7a-947c-8463b86e7b54",
   "metadata": {},
   "outputs": [
    {
     "name": "stdout",
     "output_type": "stream",
     "text": [
      "Deleted count: 1\n"
     ]
    }
   ],
   "source": [
    "def delete_book(title):\n",
    "    result = books.delete_one({\"title\": title})\n",
    "    print(\"Deleted count:\", result.deleted_count)\n",
    "\n",
    "delete_book(\"The Hobbit\")\n"
   ]
  },
  {
   "cell_type": "markdown",
   "id": "ff486fb4-6f62-461c-8abc-9222b66f39f0",
   "metadata": {},
   "source": [
    "## Exercise 6\n",
    "\n",
    "We will create three functions associated with three different queries:\n",
    "- *get_books_by_author*: Find all books for a specific author.\n",
    "- *get_books_after_year*: Find all books published after a certain year.\n",
    "- *search_books_by_title*: Find all books containing a specific word in their titles.\n",
    "\n",
    "We will start by inserting books into our database."
   ]
  },
  {
   "cell_type": "code",
   "execution_count": 10,
   "id": "70c82d7c-e735-4313-80f7-bf490f8bbef7",
   "metadata": {},
   "outputs": [
    {
     "name": "stdout",
     "output_type": "stream",
     "text": [
      "Inserted book with id: 68e6db11e0774128f243e601\n",
      "Inserted book with id: 68e6db11e0774128f243e602\n",
      "Inserted book with id: 68e6db11e0774128f243e603\n",
      "Inserted book with id: 68e6db11e0774128f243e604\n",
      "Inserted book with id: 68e6db11e0774128f243e605\n",
      "Inserted book with id: 68e6db11e0774128f243e606\n",
      "Inserted book with id: 68e6db11e0774128f243e607\n",
      "Inserted book with id: 68e6db11e0774128f243e608\n",
      "Inserted book with id: 68e6db11e0774128f243e609\n",
      "Inserted book with id: 68e6db11e0774128f243e60a\n"
     ]
    }
   ],
   "source": [
    "# Insert sample books into the collection\n",
    "insert_book(\"The Hitchhiker's Guide to the Galaxy\", \"Douglas Adams\", 1979)\n",
    "insert_book(\"The Restaurant at the End of the Universe\", \"Douglas Adams\", 1980)\n",
    "insert_book(\"Life, the Universe and Everything\", \"Douglas Adams\", 1982)\n",
    "insert_book(\"Mostly Harmless\", \"Douglas Adams\", 1992)\n",
    "insert_book(\"The Ultimate Hitchhiker's Guide to the Galaxy\", \"Douglas Adams\", 2002)\n",
    "\n",
    "insert_book(\"Harry Potter and the Philosopher's Stone\", \"J.K. Rowling\", 1997)\n",
    "insert_book(\"Harry Potter and the Deathly Hallows\", \"J.K. Rowling\", 2007)\n",
    "insert_book(\"The Martian\", \"Andy Weir\", 2011)\n",
    "insert_book(\"Ready Player One\", \"Ernest Cline\", 2011)\n",
    "insert_book(\"Project Hail Mary\", \"Andy Weir\", 2021)\n"
   ]
  },
  {
   "cell_type": "markdown",
   "id": "cc4be16f-edf6-426c-bd15-a03147d4d8a1",
   "metadata": {},
   "source": [
    "Now, we run the queries"
   ]
  },
  {
   "cell_type": "code",
   "execution_count": 11,
   "id": "4a88287c-a923-46a5-bb5f-72bd555afe10",
   "metadata": {},
   "outputs": [
    {
     "name": "stdout",
     "output_type": "stream",
     "text": [
      "Books by Douglas Adams:\n",
      "{'_id': ObjectId('68e6db11e0774128f243e601'), 'title': \"The Hitchhiker's Guide to the Galaxy\", 'author': 'Douglas Adams', 'publication_year': 1979}\n",
      "{'_id': ObjectId('68e6db11e0774128f243e602'), 'title': 'The Restaurant at the End of the Universe', 'author': 'Douglas Adams', 'publication_year': 1980}\n",
      "{'_id': ObjectId('68e6db11e0774128f243e603'), 'title': 'Life, the Universe and Everything', 'author': 'Douglas Adams', 'publication_year': 1982}\n",
      "{'_id': ObjectId('68e6db11e0774128f243e604'), 'title': 'Mostly Harmless', 'author': 'Douglas Adams', 'publication_year': 1992}\n",
      "{'_id': ObjectId('68e6db11e0774128f243e605'), 'title': \"The Ultimate Hitchhiker's Guide to the Galaxy\", 'author': 'Douglas Adams', 'publication_year': 2002}\n",
      "\n",
      "Books published after 2000:\n",
      "{'_id': ObjectId('68e6db11e0774128f243e605'), 'title': \"The Ultimate Hitchhiker's Guide to the Galaxy\", 'author': 'Douglas Adams', 'publication_year': 2002}\n",
      "{'_id': ObjectId('68e6db11e0774128f243e607'), 'title': 'Harry Potter and the Deathly Hallows', 'author': 'J.K. Rowling', 'publication_year': 2007}\n",
      "{'_id': ObjectId('68e6db11e0774128f243e608'), 'title': 'The Martian', 'author': 'Andy Weir', 'publication_year': 2011}\n",
      "{'_id': ObjectId('68e6db11e0774128f243e609'), 'title': 'Ready Player One', 'author': 'Ernest Cline', 'publication_year': 2011}\n",
      "{'_id': ObjectId('68e6db11e0774128f243e60a'), 'title': 'Project Hail Mary', 'author': 'Andy Weir', 'publication_year': 2021}\n",
      "\n",
      "Books containing 'Guide' in title:\n",
      "{'_id': ObjectId('68e6db11e0774128f243e601'), 'title': \"The Hitchhiker's Guide to the Galaxy\", 'author': 'Douglas Adams', 'publication_year': 1979}\n",
      "{'_id': ObjectId('68e6db11e0774128f243e605'), 'title': \"The Ultimate Hitchhiker's Guide to the Galaxy\", 'author': 'Douglas Adams', 'publication_year': 2002}\n"
     ]
    }
   ],
   "source": [
    "import re \n",
    "\n",
    "def get_books_by_author(author_name):\n",
    "    return list(books.find({\"author\": author_name}))\n",
    "\n",
    "def get_books_after_year(year):\n",
    "    return list(books.find({\"publication_year\": {\"$gt\": year}}))\n",
    "\n",
    "def search_books_by_title(keyword):\n",
    "    # Use regular expressions for partial matching\n",
    "    regex = re.compile(keyword, re.IGNORECASE)\n",
    "    return list(books.find({\"title\": {\"$regex\": regex}}))\n",
    "\n",
    "# Example usage:\n",
    "print(\"Books by Douglas Adams:\")\n",
    "for book in get_books_by_author(\"Douglas Adams\"):\n",
    "    print(book)\n",
    "\n",
    "print(\"\\nBooks published after 2000:\")\n",
    "for book in get_books_after_year(2000):\n",
    "    print(book)\n",
    "\n",
    "print(\"\\nBooks containing 'Guide' in title:\")\n",
    "for book in search_books_by_title(\"Guide\"):\n",
    "    print(book)\n"
   ]
  },
  {
   "cell_type": "markdown",
   "id": "1a19385f-235b-4bae-a79a-af194e7a6f05",
   "metadata": {},
   "source": [
    "## Exercise 7\n",
    "\n",
    "We are going to see how relationships can be represented in MongoDB"
   ]
  },
  {
   "cell_type": "code",
   "execution_count": 24,
   "id": "03a1bdbe-45b2-44dd-9e14-740fda4e5695",
   "metadata": {},
   "outputs": [],
   "source": [
    "from bson.objectid import ObjectId\n",
    "\n",
    "categories = db[\"categories\"]\n",
    "\n",
    "def insert_category(name):\n",
    "    category = {\"name\": name}\n",
    "    result = categories.insert_one(category)\n",
    "    return result.inserted_id\n",
    "\n",
    "def insert_book_with_category(title, author, year, category_id):\n",
    "    book = {\n",
    "        \"title\": title,\n",
    "        \"author\": author,\n",
    "        \"publication_year\": year,\n",
    "        \"category_id\": ObjectId(category_id)\n",
    "    }\n",
    "    books.insert_one(book)\n",
    "\n",
    "# Example usage:\n",
    "sf_id = insert_category(\"Science Fiction\")\n",
    "philo_id = insert_category(\"Philosophy\")\n",
    "\n",
    "insert_book_with_category(\n",
    "    \"The Hitchhiker's Guide to the Galaxy\", \"Douglas Adams\", 1979, sf_id)\n",
    "insert_book_with_category(\n",
    "    \"Sophie's World\", \"Jostein Gaarder\", 1991, philo_id)"
   ]
  },
  {
   "cell_type": "markdown",
   "id": "d643331d-6f4b-440f-8f63-47fa9ca417fd",
   "metadata": {},
   "source": [
    "## Exercise 8: Lookup\n",
    "\n",
    "We are going to combine data from multiple collections using the aggregation pipeline and the $lookup operator, which performs a left outer join between collections."
   ]
  },
  {
   "cell_type": "code",
   "execution_count": 25,
   "id": "1dda7c22-d354-458a-a837-b45dd3cfd318",
   "metadata": {},
   "outputs": [
    {
     "name": "stdout",
     "output_type": "stream",
     "text": [
      "{'title': \"The Hitchhiker's Guide to the Galaxy\", 'author': 'Douglas Adams', 'category': 'Science Fiction'}\n",
      "{'title': \"Sophie's World\", 'author': 'Jostein Gaarder', 'category': 'Philosophy'}\n"
     ]
    }
   ],
   "source": [
    "def get_books_with_categories():\n",
    "    pipeline = [\n",
    "        {\n",
    "            \"$lookup\": {\n",
    "                \"from\": \"categories\",\n",
    "                \"localField\": \"category_id\",\n",
    "                \"foreignField\": \"_id\",\n",
    "                \"as\": \"category_info\"\n",
    "            }\n",
    "        },\n",
    "        {\n",
    "            \"$unwind\": \"$category_info\"\n",
    "        },\n",
    "        {\n",
    "            \"$project\": {\n",
    "                \"_id\": 0,\n",
    "                \"title\": 1,\n",
    "                \"author\": 1,\n",
    "                \"category\": \"$category_info.name\"\n",
    "            }\n",
    "        }\n",
    "    ]\n",
    "    return list(books.aggregate(pipeline))\n",
    "\n",
    "# Example usage:\n",
    "for book in get_books_with_categories():\n",
    "    print(book)"
   ]
  },
  {
   "cell_type": "markdown",
   "id": "943762b6-48a0-46b7-9126-0d35a5e79df8",
   "metadata": {},
   "source": [
    "Extend the aggregation with a filter stage "
   ]
  },
  {
   "cell_type": "code",
   "execution_count": 26,
   "id": "8de8d554-833a-4d75-b9b7-322b9b6c53c9",
   "metadata": {},
   "outputs": [
    {
     "name": "stdout",
     "output_type": "stream",
     "text": [
      "{'title': \"The Hitchhiker's Guide to the Galaxy\", 'author': 'Douglas Adams'}\n"
     ]
    }
   ],
   "source": [
    "pipeline = [\n",
    "    {\"$lookup\": {\n",
    "        \"from\": \"categories\",\n",
    "        \"localField\": \"category_id\",\n",
    "        \"foreignField\": \"_id\",\n",
    "        \"as\": \"category_info\"}},\n",
    "    {\"$unwind\": \"$category_info\"},\n",
    "    {\"$match\": {\"category_info.name\": \"Science Fiction\"}},\n",
    "    {\"$project\": {\"title\": 1, \"author\": 1, \"_id\": 0}}\n",
    "]\n",
    "\n",
    "for book in books.aggregate(pipeline):\n",
    "    print(book)\n"
   ]
  },
  {
   "cell_type": "markdown",
   "id": "e42abded-c889-4d78-9e0c-f4e6235db1db",
   "metadata": {},
   "source": [
    "We clean the books with categories"
   ]
  },
  {
   "cell_type": "code",
   "execution_count": 27,
   "id": "f38e166b-8b58-46aa-94b2-a1769935af51",
   "metadata": {},
   "outputs": [
    {
     "name": "stdout",
     "output_type": "stream",
     "text": [
      "Deleted count: 1\n",
      "Deleted count: 1\n"
     ]
    }
   ],
   "source": [
    "delete_book(\"The Hitchhiker's Guide to the Galaxy\")\n",
    "delete_book(\"Sophie's World\")"
   ]
  },
  {
   "cell_type": "markdown",
   "id": "14fd8eaa-ccfb-441a-9b49-17ccca56d4c3",
   "metadata": {},
   "source": [
    "## Exercise 9\n",
    "\n",
    "Cleaning the collection"
   ]
  },
  {
   "cell_type": "code",
   "execution_count": 28,
   "id": "bd266402-e411-4629-8166-d9a5ccc3fa14",
   "metadata": {},
   "outputs": [
    {
     "name": "stdout",
     "output_type": "stream",
     "text": [
      "Deleted documents: 10\n"
     ]
    }
   ],
   "source": [
    "result = books.delete_many({})\n",
    "print(\"Deleted documents:\", result.deleted_count)"
   ]
  },
  {
   "cell_type": "markdown",
   "id": "1523a96f-7443-43b3-9e7c-e43aecae7cc0",
   "metadata": {},
   "source": [
    "## Exercise 10\n",
    "\n",
    "Cleaning the database"
   ]
  },
  {
   "cell_type": "code",
   "execution_count": 30,
   "id": "0a972d5a-4e40-45dc-941e-6ef19a551f59",
   "metadata": {},
   "outputs": [
    {
     "name": "stdout",
     "output_type": "stream",
     "text": [
      "Database 'library' deleted.\n"
     ]
    }
   ],
   "source": [
    "client.drop_database(\"library\")\n",
    "print(\"Database 'library' deleted.\")"
   ]
  }
 ],
 "metadata": {
  "kernelspec": {
   "display_name": "Python 3 (ipykernel)",
   "language": "python",
   "name": "python3"
  },
  "language_info": {
   "codemirror_mode": {
    "name": "ipython",
    "version": 3
   },
   "file_extension": ".py",
   "mimetype": "text/x-python",
   "name": "python",
   "nbconvert_exporter": "python",
   "pygments_lexer": "ipython3",
   "version": "3.10.17"
  }
 },
 "nbformat": 4,
 "nbformat_minor": 5
}

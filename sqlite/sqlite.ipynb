{
 "cells": [
  {
   "cell_type": "markdown",
   "id": "03c809eb-fe47-4b75-847d-7007d266f3ac",
   "metadata": {},
   "source": [
    "# SQLite Examples"
   ]
  },
  {
   "cell_type": "markdown",
   "id": "9855183b-e015-44f9-8faf-d1e8602b5189",
   "metadata": {},
   "source": [
    "## Exercise 1\n",
    "\n",
    "We start by connecting to the db and creating the books table"
   ]
  },
  {
   "cell_type": "code",
   "execution_count": 2,
   "id": "bf65de6b-96bd-4cb8-bf6a-b596bf6894cf",
   "metadata": {},
   "outputs": [],
   "source": [
    "import sqlite3\n",
    "\n",
    "# Connect to the database (creates it if it doesn't exist)\n",
    "conn = sqlite3.connect('mydatabase.db')\n",
    "\n",
    "# Create a cursor object\n",
    "cursor = conn.cursor()\n",
    "\n",
    "# Create a table\n",
    "cursor.execute('''CREATE TABLE  \n",
    " books (\n",
    "                  id INTEGER PRIMARY KEY AUTOINCREMENT,\n",
    "                  title TEXT NOT NULL,\n",
    "                  author TEXT,\n",
    "                  publication_year INTEGER\n",
    "               )''')\n",
    "\n",
    "# Commit changes\n",
    "conn.commit()\n",
    "\n",
    "# Close the connection\n",
    "conn.close()"
   ]
  },
  {
   "cell_type": "markdown",
   "id": "73c851ff-f65c-4c2b-96ff-01be1e1fe1a8",
   "metadata": {},
   "source": [
    "## Exercise 2\n",
    "\n",
    "We add some data to the database."
   ]
  },
  {
   "cell_type": "code",
   "execution_count": 3,
   "id": "e52ca53f-0556-47ee-9358-49d57ceadaa7",
   "metadata": {},
   "outputs": [],
   "source": [
    "import sqlite3\n",
    "\n",
    "def insert_book(title, author, publication_year):\n",
    "  conn = sqlite3.connect('mydatabase.db')\n",
    "  cursor = conn.cursor()\n",
    "\n",
    "  cursor.execute(\"INSERT INTO books (title, author, publication_year) VALUES (?, ?, ?)\", (title, author, publication_year))\n",
    "  conn.commit()\n",
    "  conn.close()\n",
    "\n",
    "# Example usage:\n",
    "insert_book(\"The Hitchhiker's Guide to the Galaxy\", \"Douglas Adams\", 1979)"
   ]
  },
  {
   "cell_type": "markdown",
   "id": "ef1be98a-b53d-4381-8d66-e5a927d57909",
   "metadata": {},
   "source": [
    "## Exercise 3\n",
    "\n",
    "We retrieve the data"
   ]
  },
  {
   "cell_type": "code",
   "execution_count": 4,
   "id": "b2c8e2e4-e7e7-4108-b25e-e07e516e9fed",
   "metadata": {},
   "outputs": [
    {
     "name": "stdout",
     "output_type": "stream",
     "text": [
      "(1, \"The Hitchhiker's Guide to the Galaxy\", 'Douglas Adams', 1979)\n"
     ]
    }
   ],
   "source": [
    "import sqlite3\n",
    "\n",
    "def get_all_books():\n",
    "  conn = sqlite3.connect('mydatabase.db')\n",
    "  cursor = conn.cursor()\n",
    "\n",
    "  cursor.execute(\"SELECT * FROM books\")\n",
    "  rows = cursor.fetchall()\n",
    "  conn.close()\n",
    "  return rows\n",
    "\n",
    "# Example usage:\n",
    "books = get_all_books()\n",
    "for book in books:\n",
    "  print(book)"
   ]
  },
  {
   "cell_type": "markdown",
   "id": "2af05736-436f-4f81-b2f7-f8c352905cd9",
   "metadata": {},
   "source": [
    "## Exercise 4\n",
    "\n",
    "We update the data"
   ]
  },
  {
   "cell_type": "code",
   "execution_count": 5,
   "id": "80016892-9640-4e40-96c0-58f888827b21",
   "metadata": {},
   "outputs": [
    {
     "name": "stdout",
     "output_type": "stream",
     "text": [
      "(1, 'New Title', 'New Author', 2023)\n"
     ]
    }
   ],
   "source": [
    "import sqlite3\n",
    "\n",
    "def update_book(id, title, author, publication_year):\n",
    "  conn = sqlite3.connect('mydatabase.db')\n",
    "  cursor = conn.cursor()\n",
    "\n",
    "  cursor.execute(\"UPDATE books SET title=?, author=?, publication_year=? WHERE id=?\", (title, author, publication_year, id))\n",
    "  conn.commit()\n",
    "  conn.close()\n",
    "\n",
    "# Example usage:\n",
    "update_book(1, \"New Title\", \"New Author\", 2023)\n",
    "books = get_all_books()\n",
    "for book in books:\n",
    "  print(book)"
   ]
  },
  {
   "cell_type": "markdown",
   "id": "c18fbacc-4022-43ab-a70d-8b4349848057",
   "metadata": {},
   "source": [
    "## Exercise 5\n",
    "\n",
    "Removing the data"
   ]
  },
  {
   "cell_type": "code",
   "execution_count": 6,
   "id": "0242300d-0e79-49c7-a47f-2c2ab131a44f",
   "metadata": {},
   "outputs": [],
   "source": [
    "import sqlite3\n",
    "\n",
    "def delete_book(id):\n",
    "  conn = sqlite3.connect('mydatabase.db')\n",
    "  cursor = conn.cursor()\n",
    "\n",
    "  cursor.execute(\"DELETE FROM books WHERE id=?\", (id,))\n",
    "  conn.commit()\n",
    "  conn.close()\n",
    "\n",
    "# Example usage:\n",
    "delete_book(1)\n",
    "books = get_all_books()\n",
    "for book in books:\n",
    "  print(book)"
   ]
  },
  {
   "cell_type": "markdown",
   "id": "f7395733-9015-4521-9d21-2e6c1c1102a5",
   "metadata": {},
   "source": [
    "## Exercise 6\n",
    "\n",
    "We are going to create complex queries. First, we insert books in the database and then we run our queries."
   ]
  },
  {
   "cell_type": "code",
   "execution_count": 7,
   "id": "d4fcbf63-cdfd-46b1-a5c6-3015bab6bd0a",
   "metadata": {},
   "outputs": [],
   "source": [
    "# Insert sample books into the collection\n",
    "insert_book(\"The Hitchhiker's Guide to the Galaxy\", \"Douglas Adams\", 1979)\n",
    "insert_book(\"The Restaurant at the End of the Universe\", \"Douglas Adams\", 1980)\n",
    "insert_book(\"Life, the Universe and Everything\", \"Douglas Adams\", 1982)\n",
    "insert_book(\"Mostly Harmless\", \"Douglas Adams\", 1992)\n",
    "insert_book(\"The Ultimate Hitchhiker's Guide to the Galaxy\", \"Douglas Adams\", 2002)\n",
    "\n",
    "insert_book(\"Harry Potter and the Philosopher's Stone\", \"J.K. Rowling\", 1997)\n",
    "insert_book(\"Harry Potter and the Deathly Hallows\", \"J.K. Rowling\", 2007)\n",
    "insert_book(\"The Martian\", \"Andy Weir\", 2011)\n",
    "insert_book(\"Ready Player One\", \"Ernest Cline\", 2011)\n",
    "insert_book(\"Project Hail Mary\", \"Andy Weir\", 2021)\n"
   ]
  },
  {
   "cell_type": "code",
   "execution_count": 8,
   "id": "9845ba81-d444-45af-bdfc-55ae575e81ea",
   "metadata": {},
   "outputs": [
    {
     "name": "stdout",
     "output_type": "stream",
     "text": [
      "Books by Douglas Adams:\n",
      "[(2, \"The Hitchhiker's Guide to the Galaxy\", 'Douglas Adams', 1979), (3, 'The Restaurant at the End of the Universe', 'Douglas Adams', 1980), (4, 'Life, the Universe and Everything', 'Douglas Adams', 1982), (5, 'Mostly Harmless', 'Douglas Adams', 1992), (6, \"The Ultimate Hitchhiker's Guide to the Galaxy\", 'Douglas Adams', 2002)]\n",
      "Books published after 2000:\n",
      "[(6, \"The Ultimate Hitchhiker's Guide to the Galaxy\", 'Douglas Adams', 2002), (8, 'Harry Potter and the Deathly Hallows', 'J.K. Rowling', 2007), (9, 'The Martian', 'Andy Weir', 2011), (10, 'Ready Player One', 'Ernest Cline', 2011), (11, 'Project Hail Mary', 'Andy Weir', 2021)]\n",
      "Books containing 'Guide' in title:\n",
      "[(2, \"The Hitchhiker's Guide to the Galaxy\", 'Douglas Adams', 1979), (6, \"The Ultimate Hitchhiker's Guide to the Galaxy\", 'Douglas Adams', 2002)]\n"
     ]
    }
   ],
   "source": [
    "import sqlite3\n",
    "\n",
    "def get_books_by_author(author_name):\n",
    "    conn = sqlite3.connect('mydatabase.db')\n",
    "    cursor = conn.cursor()\n",
    "    cursor.execute(\"SELECT * FROM books WHERE author = ?\", (author_name,))\n",
    "    rows = cursor.fetchall()\n",
    "    conn.close()\n",
    "    return rows\n",
    "\n",
    "def get_books_after_year(year):\n",
    "    conn = sqlite3.connect('mydatabase.db')\n",
    "    cursor = conn.cursor()\n",
    "    cursor.execute(\"SELECT * FROM books WHERE publication_year > ?\", (year,))\n",
    "    rows = cursor.fetchall()\n",
    "    conn.close()\n",
    "    return rows\n",
    "\n",
    "def search_books_by_title(keyword):\n",
    "    conn = sqlite3.connect('mydatabase.db')\n",
    "    cursor = conn.cursor()\n",
    "    cursor.execute(\"SELECT * FROM books WHERE title LIKE ?\", ('%' + keyword + '%',))\n",
    "    rows = cursor.fetchall()\n",
    "    conn.close()\n",
    "    return rows\n",
    "\n",
    "# Example usage:\n",
    "print(\"Books by Douglas Adams:\")\n",
    "print(get_books_by_author(\"Douglas Adams\"))\n",
    "\n",
    "print(\"Books published after 2000:\")\n",
    "print(get_books_after_year(2000))\n",
    "\n",
    "print(\"Books containing 'Guide' in title:\")\n",
    "print(search_books_by_title(\"Guide\"))\n"
   ]
  },
  {
   "cell_type": "markdown",
   "id": "34a2980d-6f63-41fe-bb7e-73260a529cdf",
   "metadata": {},
   "source": [
    "## Exercise 7\n",
    "\n",
    "We are going to work with two tables and their relationships. We start by creating the tables including primaries and foreign keys."
   ]
  },
  {
   "cell_type": "code",
   "execution_count": 11,
   "id": "47895cf6-e8af-4e10-8b20-babb160ada42",
   "metadata": {},
   "outputs": [],
   "source": [
    "import sqlite3\n",
    "\n",
    "# Create a new table for categories\n",
    "conn = sqlite3.connect('mydatabase2.db')\n",
    "cursor = conn.cursor()\n",
    "\n",
    "cursor.execute('''CREATE TABLE IF NOT EXISTS categories (\n",
    "                    id INTEGER PRIMARY KEY AUTOINCREMENT,\n",
    "                    name TEXT NOT NULL\n",
    "                )''')\n",
    "\n",
    "# Add a foreign key to the books table\n",
    "cursor.execute('''CREATE TABLE IF NOT EXISTS books (\n",
    "                    id INTEGER PRIMARY KEY AUTOINCREMENT,\n",
    "                    title TEXT NOT NULL,\n",
    "                    author TEXT,\n",
    "                    publication_year INTEGER,\n",
    "                    category_id INTEGER,\n",
    "                    FOREIGN KEY (category_id) REFERENCES categories(id)\n",
    "                )''')\n",
    "\n",
    "conn.commit()\n",
    "conn.close()\n"
   ]
  },
  {
   "cell_type": "markdown",
   "id": "0164fef3-c337-4801-9cb4-b98e58fd2b6f",
   "metadata": {},
   "source": [
    "Now, we are going to add data to each table:"
   ]
  },
  {
   "cell_type": "code",
   "execution_count": 12,
   "id": "cc03498e-7354-4167-a66b-f5c7aaaff01e",
   "metadata": {},
   "outputs": [],
   "source": [
    "def insert_category(name):\n",
    "    conn = sqlite3.connect('mydatabase2.db')\n",
    "    cursor = conn.cursor()\n",
    "    cursor.execute(\"INSERT INTO categories (name) VALUES (?)\", (name,))\n",
    "    conn.commit()\n",
    "    conn.close()\n",
    "\n",
    "def insert_book_with_category(title, author, year, category_id):\n",
    "    conn = sqlite3.connect('mydatabase2.db')\n",
    "    cursor = conn.cursor()\n",
    "    cursor.execute(\"INSERT INTO books (title, author, publication_year, category_id) VALUES (?, ?, ?, ?)\",\n",
    "                   (title, author, year, category_id))\n",
    "    conn.commit()\n",
    "    conn.close()\n",
    "\n",
    "# Example usage:\n",
    "insert_category(\"Science Fiction\")\n",
    "insert_category(\"Philosophy\")\n",
    "\n",
    "insert_book_with_category(\"The Hitchhiker's Guide to the Galaxy\", \"Douglas Adams\", 1979, 1)\n",
    "insert_book_with_category(\"Sophie's World\", \"Jostein Gaarder\", 1991, 2)"
   ]
  },
  {
   "cell_type": "markdown",
   "id": "37a27730-c0cf-4bfe-84ea-536eaffd47b3",
   "metadata": {},
   "source": [
    "## Exercise 8\n",
    "\n",
    "We are going to use the INNER JOIN to collect information from both table"
   ]
  },
  {
   "cell_type": "code",
   "execution_count": 13,
   "id": "57ec5f4a-c13b-423b-86f2-48ff4a4b8764",
   "metadata": {},
   "outputs": [
    {
     "name": "stdout",
     "output_type": "stream",
     "text": [
      "(\"The Hitchhiker's Guide to the Galaxy\", 'Douglas Adams', 'Science Fiction')\n",
      "(\"Sophie's World\", 'Jostein Gaarder', 'Philosophy')\n"
     ]
    }
   ],
   "source": [
    "def get_books_with_categories():\n",
    "    conn = sqlite3.connect('mydatabase2.db')\n",
    "    cursor = conn.cursor()\n",
    "    query = '''\n",
    "    SELECT books.title, books.author, categories.name AS category\n",
    "    FROM books\n",
    "    INNER JOIN categories ON books.category_id = categories.id\n",
    "    '''\n",
    "    cursor.execute(query)\n",
    "    rows = cursor.fetchall()\n",
    "    conn.close()\n",
    "    return rows\n",
    "\n",
    "# Example usage:\n",
    "books_with_categories = get_books_with_categories()\n",
    "for book in books_with_categories:\n",
    "    print(book)"
   ]
  },
  {
   "cell_type": "code",
   "execution_count": 18,
   "id": "ea7f2d54-cc05-4972-a8ee-3bd636d0756e",
   "metadata": {},
   "outputs": [
    {
     "name": "stdout",
     "output_type": "stream",
     "text": [
      "(\"The Hitchhiker's Guide to the Galaxy\", 'Science Fiction')\n"
     ]
    }
   ],
   "source": [
    "def get_books_with_categories(name):\n",
    "    conn = sqlite3.connect('mydatabase2.db')\n",
    "    cursor = conn.cursor()\n",
    "    cursor.execute('''\n",
    "        SELECT books.title, categories.name\n",
    "        FROM books\n",
    "        INNER JOIN categories ON books.category_id = categories.id\n",
    "        WHERE categories.name = ?\n",
    "        ''', (name,))\n",
    "    rows = cursor.fetchall()\n",
    "    conn.close()\n",
    "    return rows\n",
    "\n",
    "\n",
    "# Example usage:\n",
    "books_with_categories = get_books_with_categories('Science Fiction')\n",
    "for book in books_with_categories:\n",
    "    print(book)"
   ]
  },
  {
   "cell_type": "markdown",
   "id": "096b8d5f-ebd5-428f-a6ee-f1104e9ff127",
   "metadata": {},
   "source": [
    "## Exercise 9\n",
    "\n",
    "Removing elements from the database"
   ]
  },
  {
   "cell_type": "code",
   "execution_count": 19,
   "id": "aa8a7a78-adef-4444-93ef-d49298121316",
   "metadata": {},
   "outputs": [
    {
     "name": "stdout",
     "output_type": "stream",
     "text": [
      "All records deleted from 'books' table.\n"
     ]
    }
   ],
   "source": [
    "import sqlite3\n",
    "\n",
    "# Connect to the database\n",
    "conn = sqlite3.connect('mydatabase.db')\n",
    "cursor = conn.cursor()\n",
    "\n",
    "# Delete all rows from the 'books' table\n",
    "cursor.execute(\"DELETE FROM books\")\n",
    "conn.commit()\n",
    "conn.close()\n",
    "\n",
    "print(\"All records deleted from 'books' table.\")"
   ]
  },
  {
   "cell_type": "markdown",
   "id": "bcaae603-9f46-40db-9ed4-ebfd251f0b5b",
   "metadata": {},
   "source": [
    "## Exercise 10\n",
    "\n",
    "We remove the database file "
   ]
  },
  {
   "cell_type": "code",
   "execution_count": 20,
   "id": "22a6faed-004b-4d86-8d28-e0be0ee465e4",
   "metadata": {},
   "outputs": [
    {
     "name": "stdout",
     "output_type": "stream",
     "text": [
      "Database 'mydatabase.db' deleted.\n"
     ]
    }
   ],
   "source": [
    "import os\n",
    "\n",
    "# Delete the entire 'mydatabase.db' file\n",
    "if os.path.exists(\"mydatabase.db\"):\n",
    "    os.remove(\"mydatabase.db\")\n",
    "    print(\"Database 'mydatabase.db' deleted.\")\n",
    "else:\n",
    "    print(\"Database file does not exist.\")"
   ]
  },
  {
   "cell_type": "code",
   "execution_count": null,
   "id": "a54f2542-084d-4e1f-9acb-8ff6380b40c2",
   "metadata": {},
   "outputs": [],
   "source": []
  }
 ],
 "metadata": {
  "kernelspec": {
   "display_name": "Python 3 (ipykernel)",
   "language": "python",
   "name": "python3"
  },
  "language_info": {
   "codemirror_mode": {
    "name": "ipython",
    "version": 3
   },
   "file_extension": ".py",
   "mimetype": "text/x-python",
   "name": "python",
   "nbconvert_exporter": "python",
   "pygments_lexer": "ipython3",
   "version": "3.10.17"
  }
 },
 "nbformat": 4,
 "nbformat_minor": 5
}
